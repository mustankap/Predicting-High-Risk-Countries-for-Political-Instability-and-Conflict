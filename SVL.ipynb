{
 "cells": [
  {
   "cell_type": "code",
   "execution_count": 35,
   "id": "democratic-writer",
   "metadata": {},
   "outputs": [],
   "source": [
    "import numpy as np\n",
    "import matplotlib.pyplot as plt\n",
    "import pandas as pd"
   ]
  },
  {
   "cell_type": "code",
   "execution_count": 38,
   "id": "modified-assistant",
   "metadata": {},
   "outputs": [],
   "source": [
    "df2006 = pd.read_csv('Dataset/training/fsi-2006.csv')\n"
   ]
  },
  {
   "cell_type": "code",
   "execution_count": 31,
   "id": "proud-blocking",
   "metadata": {},
   "outputs": [
    {
     "data": {
      "text/plain": [
       "(146, 16)"
      ]
     },
     "execution_count": 31,
     "metadata": {},
     "output_type": "execute_result"
    }
   ],
   "source": [
    "df.shape\n"
   ]
  },
  {
   "cell_type": "code",
   "execution_count": 32,
   "id": "dedicated-dynamics",
   "metadata": {},
   "outputs": [
    {
     "name": "stdout",
     "output_type": "stream",
     "text": [
      "<class 'pandas.core.frame.DataFrame'>\n",
      "RangeIndex: 146 entries, 0 to 145\n",
      "Data columns (total 16 columns):\n",
      " #   Column                            Non-Null Count  Dtype  \n",
      "---  ------                            --------------  -----  \n",
      " 0   Country                           146 non-null    object \n",
      " 1   Year                              146 non-null    int64  \n",
      " 2   Rank                              146 non-null    object \n",
      " 3   Total                             146 non-null    float64\n",
      " 4   C1: Security Apparatus            146 non-null    float64\n",
      " 5   C2: Factionalized Elites          146 non-null    float64\n",
      " 6   C3: Group Grievance               146 non-null    float64\n",
      " 7   E1: Economy                       146 non-null    float64\n",
      " 8   E2: Economic Inequality           146 non-null    float64\n",
      " 9   E3: Human Flight and Brain Drain  146 non-null    float64\n",
      " 10  P1: State Legitimacy              146 non-null    float64\n",
      " 11  P2: Public Services               146 non-null    float64\n",
      " 12  P3: Human Rights                  146 non-null    float64\n",
      " 13  S1: Demographic Pressures         146 non-null    float64\n",
      " 14  S2: Refugees and IDPs             146 non-null    float64\n",
      " 15  X1: External Intervention         146 non-null    float64\n",
      "dtypes: float64(13), int64(1), object(2)\n",
      "memory usage: 18.4+ KB\n"
     ]
    }
   ],
   "source": [
    "df2006.info()"
   ]
  },
  {
   "cell_type": "code",
   "execution_count": 24,
   "id": "serious-fountain",
   "metadata": {},
   "outputs": [],
   "source": [
    "\n",
    "        \n",
    "    \n",
    "    \n",
    "\n",
    "    "
   ]
  },
  {
   "cell_type": "code",
   "execution_count": 34,
   "id": "dated-ideal",
   "metadata": {},
   "outputs": [
    {
     "data": {
      "text/plain": [
       "0       True\n",
       "1       True\n",
       "2       True\n",
       "3       True\n",
       "4       True\n",
       "       ...  \n",
       "141    False\n",
       "142    False\n",
       "143    False\n",
       "144    False\n",
       "145    False\n",
       "Name: Total, Length: 146, dtype: bool"
      ]
     },
     "execution_count": 34,
     "metadata": {},
     "output_type": "execute_result"
    }
   ],
   "source": [
    "al=df2006['Total']>= 90.0\n"
   ]
  },
  {
   "cell_type": "code",
   "execution_count": null,
   "id": "going-monster",
   "metadata": {},
   "outputs": [],
   "source": []
  }
 ],
 "metadata": {
  "kernelspec": {
   "display_name": "Python 3",
   "language": "python",
   "name": "python3"
  },
  "language_info": {
   "codemirror_mode": {
    "name": "ipython",
    "version": 3
   },
   "file_extension": ".py",
   "mimetype": "text/x-python",
   "name": "python",
   "nbconvert_exporter": "python",
   "pygments_lexer": "ipython3",
   "version": "3.8.5"
  }
 },
 "nbformat": 4,
 "nbformat_minor": 5
}
